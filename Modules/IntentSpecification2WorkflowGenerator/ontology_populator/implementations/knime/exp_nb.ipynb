{
 "cells": [
  {
   "cell_type": "code",
   "execution_count": 4,
   "metadata": {},
   "outputs": [
    {
     "ename": "ModuleNotFoundError",
     "evalue": "No module named 'common'",
     "output_type": "error",
     "traceback": [
      "\u001b[0;31m---------------------------------------------------------------------------\u001b[0m",
      "\u001b[0;31mModuleNotFoundError\u001b[0m                       Traceback (most recent call last)",
      "Cell \u001b[0;32mIn[4], line 2\u001b[0m\n\u001b[1;32m      1\u001b[0m \u001b[38;5;66;03m# from common import *\u001b[39;00m\n\u001b[0;32m----> 2\u001b[0m \u001b[38;5;28;01mfrom\u001b[39;00m \u001b[38;5;21;01mknime_implementation\u001b[39;00m \u001b[38;5;28;01mimport\u001b[39;00m KnimeBaseBundle, KnimeParameter, KnimeImplementation\n\u001b[1;32m      3\u001b[0m \u001b[38;5;28;01mfrom\u001b[39;00m \u001b[38;5;21;01m.\u001b[39;00m\u001b[38;5;21;01m.\u001b[39;00m\u001b[38;5;21;01mcore\u001b[39;00m \u001b[38;5;28;01mimport\u001b[39;00m \u001b[38;5;241m*\u001b[39m\n\u001b[1;32m      5\u001b[0m partitioning_implementation \u001b[38;5;241m=\u001b[39m KnimeImplementation(\n\u001b[1;32m      6\u001b[0m     name\u001b[38;5;241m=\u001b[39m\u001b[38;5;124m'\u001b[39m\u001b[38;5;124mPartitioning\u001b[39m\u001b[38;5;124m'\u001b[39m,\n\u001b[1;32m      7\u001b[0m     algorithm\u001b[38;5;241m=\u001b[39mcb\u001b[38;5;241m.\u001b[39mPartitioning,\n\u001b[0;32m   (...)\u001b[0m\n\u001b[1;32m     24\u001b[0m     knime_bundle\u001b[38;5;241m=\u001b[39mKnimeBaseBundle,\n\u001b[1;32m     25\u001b[0m )\n",
      "File \u001b[0;32m~/Desktop/thesis-work/thesis-internship/ODIN/Modules/IntentSpecification2WorkflowGenerator/ontology_populator/implementations/knime/knime_implementation.py:3\u001b[0m\n\u001b[1;32m      1\u001b[0m \u001b[38;5;28;01mfrom\u001b[39;00m \u001b[38;5;21;01mtyping\u001b[39;00m \u001b[38;5;28;01mimport\u001b[39;00m List, Union, Optional\n\u001b[0;32m----> 3\u001b[0m \u001b[38;5;28;01mfrom\u001b[39;00m \u001b[38;5;21;01mcommon\u001b[39;00m \u001b[38;5;28;01mimport\u001b[39;00m \u001b[38;5;241m*\u001b[39m\n\u001b[1;32m      4\u001b[0m \u001b[38;5;28;01mfrom\u001b[39;00m \u001b[38;5;21;01montology_populator\u001b[39;00m\u001b[38;5;21;01m.\u001b[39;00m\u001b[38;5;21;01mimplementations\u001b[39;00m\u001b[38;5;21;01m.\u001b[39;00m\u001b[38;5;21;01mcore\u001b[39;00m \u001b[38;5;28;01mimport\u001b[39;00m Implementation, Parameter, ParameterSpecification\n\u001b[1;32m      5\u001b[0m \u001b[38;5;28;01mfrom\u001b[39;00m \u001b[38;5;21;01montology_populator\u001b[39;00m\u001b[38;5;21;01m.\u001b[39;00m\u001b[38;5;21;01mimplementations\u001b[39;00m\u001b[38;5;21;01m.\u001b[39;00m\u001b[38;5;21;01mcore\u001b[39;00m\u001b[38;5;21;01m.\u001b[39;00m\u001b[38;5;21;01mparameter\u001b[39;00m \u001b[38;5;28;01mimport\u001b[39;00m LiteralValue\n",
      "\u001b[0;31mModuleNotFoundError\u001b[0m: No module named 'common'"
     ]
    }
   ],
   "source": [
    "import sys\n",
    "import os\n",
    "sys.path.append(os.path.join(os.path.dirname(__file__), '..'))\n",
    "from common import *\n",
    "from knime_implementation import KnimeBaseBundle, KnimeParameter, KnimeImplementation\n",
    "from ..core import *\n",
    "\n",
    "partitioning_implementation = KnimeImplementation(\n",
    "    name='Partitioning',\n",
    "    algorithm=cb.Partitioning,\n",
    "    parameters=[\n",
    "        KnimeParameter(\"Size of First Partition\", XSD.string, \"Relative\", \"method\"),\n",
    "        KnimeParameter(\"Sampling Method\", XSD.string, \"Random\", \"samplingMethod\"),\n",
    "        KnimeParameter(\"Fraction (Relative size)\", XSD.double, 0.8, \"fraction\"),\n",
    "        KnimeParameter(\"Count (Absolute size)\", XSD.int, 100, \"count\"),\n",
    "        KnimeParameter(\"Random seed\", XSD.string, None, \"random_seed\"),\n",
    "        KnimeParameter(\"Class columns\", XSD.string, None, \"class_column\"),\n",
    "    ],\n",
    "    input=[\n",
    "        cb.TabularDataset,\n",
    "    ],\n",
    "    output=[\n",
    "        cb.TrainDataset,\n",
    "        cb.TestDataset,\n",
    "    ],\n",
    "    knime_node_factory='org.knime.base.node.preproc.partition.PartitionNodeFactory',\n",
    "    knime_bundle=KnimeBaseBundle,\n",
    ")"
   ]
  },
  {
   "cell_type": "code",
   "execution_count": null,
   "metadata": {},
   "outputs": [],
   "source": []
  }
 ],
 "metadata": {
  "kernelspec": {
   "display_name": "Python 3",
   "language": "python",
   "name": "python3"
  },
  "language_info": {
   "codemirror_mode": {
    "name": "ipython",
    "version": 3
   },
   "file_extension": ".py",
   "mimetype": "text/x-python",
   "name": "python",
   "nbconvert_exporter": "python",
   "pygments_lexer": "ipython3",
   "version": "3.10.12"
  }
 },
 "nbformat": 4,
 "nbformat_minor": 2
}
