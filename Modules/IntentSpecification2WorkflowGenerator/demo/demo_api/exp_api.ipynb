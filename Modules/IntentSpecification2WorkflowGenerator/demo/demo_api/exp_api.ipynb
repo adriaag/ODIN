{
 "cells": [
  {
   "cell_type": "code",
   "execution_count": 10,
   "metadata": {},
   "outputs": [
    {
     "name": "stdout",
     "output_type": "stream",
     "text": [
      "{rdflib.term.URIRef('https://extremexp.eu/ontology/cbox#DecisionTree'): [rdflib.term.URIRef('https://extremexp.eu/ontology/cbox#LabeledTabularDatasetShape'), rdflib.term.URIRef('https://extremexp.eu/ontology/cbox#TrainTabularDatasetShape')], rdflib.term.URIRef('https://extremexp.eu/ontology/cbox#SVM'): [rdflib.term.URIRef('https://extremexp.eu/ontology/cbox#LabeledTabularDatasetShape'), rdflib.term.URIRef('https://extremexp.eu/ontology/cbox#TrainTabularDatasetShape'), rdflib.term.URIRef('https://extremexp.eu/ontology/cbox#NonNullTabularDatasetShape'), rdflib.term.URIRef('https://extremexp.eu/ontology/cbox#NormalizedTabularDatasetShape')]}\n",
      "---------------------------------------------------\n",
      "{rdflib.term.URIRef('https://extremexp.eu/ontology/cbox#DecisionTree'): [(rdflib.term.URIRef('https://extremexp.eu/ontology/cbox#implementation-decision_tree_learner'), [[rdflib.term.URIRef('https://extremexp.eu/ontology/cbox#LabeledTabularDatasetShape'), rdflib.term.URIRef('https://extremexp.eu/ontology/cbox#TrainTabularDatasetShape')]])], rdflib.term.URIRef('https://extremexp.eu/ontology/cbox#SVM'): [(rdflib.term.URIRef('https://extremexp.eu/ontology/cbox#implementation-svm_learner'), [[rdflib.term.URIRef('https://extremexp.eu/ontology/cbox#LabeledTabularDatasetShape'), rdflib.term.URIRef('https://extremexp.eu/ontology/cbox#TrainTabularDatasetShape'), rdflib.term.URIRef('https://extremexp.eu/ontology/cbox#NonNullTabularDatasetShape'), rdflib.term.URIRef('https://extremexp.eu/ontology/cbox#NormalizedTabularDatasetShape')]])]}\n"
     ]
    }
   ],
   "source": [
    "import zipfile\n",
    "import sys\n",
    "import os\n",
    "\n",
    "from rdflib.term import Node\n",
    "\n",
    "# sys.path.append(os.path.join(os.path.dirname(__file__), '..', '..'))\n",
    "sys.path.append(os.path.join(os.path.abspath(os.path.join('..', '..'))))\n",
    "from pipeline_generator.optimized_pipeline_generator import *\n",
    "\n",
    "\n",
    "\n",
    "def abstract_planner(ontology: Graph, intent: Graph) -> Tuple[\n",
    "    Dict[Node, Dict[Node, List[Node]]], Dict[Node, List[Node]]]:\n",
    "    dataset, task, algorithm, intent_iri = get_intent_info(intent)\n",
    "\n",
    "    algs = get_algorithms_from_task(ontology, task)\n",
    "\n",
    "    impls = get_potential_implementations(ontology, task, algorithm)\n",
    "\n",
    "    algs_shapes = {}\n",
    "    alg_plans = {alg: [] for alg in algs}\n",
    "    for impl in impls:\n",
    "        alg = next(ontology.objects(impl[0], tb.implements)), \n",
    "        (impl[0], RDF.type, tb.Implementation) in ontology and (tb.ApplierImplementation not in ontology.objects(impl[0], RDF.type))\n",
    "\n",
    "        algs_shapes[alg[0]] = impl[1::][0][0]\n",
    "\n",
    "        alg_plans[alg[0]].append(impl)\n",
    "\n",
    "    print(algs_shapes)\n",
    "    \n",
    "    # for impl in impls:\n",
    "\n",
    "        # key = next(ontology.objects(impl[0], tb.implements))\n",
    "        \n",
    "        # alg_plans[key].append(impl)\n",
    "\n",
    "\n",
    "    # train=True\n",
    "    plans = {}\n",
    "    for alg in algs:\n",
    "        if cb.TrainTabularDatasetShape in algs_shapes[alg]:\n",
    "            trainer = cb.term(alg.fragment + '-Train')\n",
    "            plans[alg] = {\n",
    "                cb.DataLoading: [cb.TrainTestSplit],\n",
    "                cb.TrainTestSplit: [trainer, alg],\n",
    "                trainer: [alg],\n",
    "                alg: [cb.DataStoring],\n",
    "                cb.DataStoring: []\n",
    "            }\n",
    "        else:\n",
    "            plans[alg] = {\n",
    "                cb.DataLoading: [alg],\n",
    "                alg: [],\n",
    "                # cb.DataStoring: []\n",
    "            }\n",
    "        # plans[alg] = {\n",
    "        #     cb.DataLoading: [alg],\n",
    "        #     alg: [],\n",
    "        #     # cb.DataStoring: []\n",
    "        # }\n",
    "\n",
    "    return plans, alg_plans\n",
    "\n",
    "\n",
    "ontology = get_ontology_graph()\n",
    "intent_graph = get_graph_xp()\n",
    "\n",
    "intent_name = 'ci'\n",
    "\n",
    "intent_graph.add((ab.term(intent_name), RDF.type, tb.Intent))\n",
    "intent_graph.add((ab.term(intent_name), tb.overData, URIRef('titanic.csv')))\n",
    "intent_graph.add((cb.Classification, tb.tackles, ab.term(intent_name)))\n",
    "\n",
    "intent = intent_graph\n",
    "\n",
    "abs_plans, alg_plans = abstract_planner(ontology, intent)\n",
    "print('---------------------------------------------------')\n",
    "\n",
    "print(f'ABS PLANS: {abs_plans}')\n",
    "print(f'ALG PLANS:{alg_plans}')"
   ]
  },
  {
   "cell_type": "code",
   "execution_count": 3,
   "metadata": {},
   "outputs": [
    {
     "name": "stdout",
     "output_type": "stream",
     "text": [
      "/usr/lib/python3.10/xml/etree/ElementTree.py\n"
     ]
    }
   ],
   "source": [
    "import xml.etree.ElementTree as ET\n",
    "print(ET.__file__)"
   ]
  },
  {
   "cell_type": "code",
   "execution_count": 4,
   "metadata": {},
   "outputs": [
    {
     "ename": "TypeError",
     "evalue": "indent() missing 1 required positional argument: 'tree'",
     "output_type": "error",
     "traceback": [
      "\u001b[0;31m---------------------------------------------------------------------------\u001b[0m",
      "\u001b[0;31mTypeError\u001b[0m                                 Traceback (most recent call last)",
      "Cell \u001b[0;32mIn[4], line 3\u001b[0m\n\u001b[1;32m      1\u001b[0m \u001b[38;5;28;01mimport\u001b[39;00m \u001b[38;5;21;01mxml\u001b[39;00m\u001b[38;5;21;01m.\u001b[39;00m\u001b[38;5;21;01metree\u001b[39;00m\u001b[38;5;21;01m.\u001b[39;00m\u001b[38;5;21;01mElementTree\u001b[39;00m \u001b[38;5;28;01mas\u001b[39;00m \u001b[38;5;21;01mET\u001b[39;00m\n\u001b[0;32m----> 3\u001b[0m \u001b[43mET\u001b[49m\u001b[38;5;241;43m.\u001b[39;49m\u001b[43mindent\u001b[49m\u001b[43m(\u001b[49m\u001b[43m)\u001b[49m\n",
      "\u001b[0;31mTypeError\u001b[0m: indent() missing 1 required positional argument: 'tree'"
     ]
    }
   ],
   "source": [
    "import xml.etree.ElementTree as ET\n",
    "\n",
    "ET.indent()"
   ]
  },
  {
   "cell_type": "code",
   "execution_count": null,
   "metadata": {},
   "outputs": [],
   "source": []
  }
 ],
 "metadata": {
  "kernelspec": {
   "display_name": "Python 3",
   "language": "python",
   "name": "python3"
  },
  "language_info": {
   "codemirror_mode": {
    "name": "ipython",
    "version": 3
   },
   "file_extension": ".py",
   "mimetype": "text/x-python",
   "name": "python",
   "nbconvert_exporter": "python",
   "pygments_lexer": "ipython3",
   "version": "3.10.12"
  }
 },
 "nbformat": 4,
 "nbformat_minor": 2
}
